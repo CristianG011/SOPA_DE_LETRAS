{
  "cells": [
    {
      "cell_type": "markdown",
      "metadata": {
        "id": "view-in-github",
        "colab_type": "text"
      },
      "source": [
        "<a href=\"https://colab.research.google.com/github/CristianG011/SOPA_DE_LETRAS/blob/main/sopadeletras_sin_transposicion.ipynb\" target=\"_parent\"><img src=\"https://colab.research.google.com/assets/colab-badge.svg\" alt=\"Open In Colab\"/></a>"
      ]
    },
    {
      "cell_type": "code",
      "execution_count": null,
      "metadata": {
        "id": "wxTxsh-y7TzH"
      },
      "outputs": [],
      "source": [
        "import numpy as np\n",
        "import random\n",
        "import pandas as pd"
      ]
    },
    {
      "cell_type": "code",
      "execution_count": null,
      "metadata": {
        "id": "Z13Tdmvv7TzN"
      },
      "outputs": [],
      "source": [
        "#La siguiente función permite evitar el tema de que se asolapen las letras entre sí\n",
        "\n",
        "def esposicionVacia(matriz, fila, col, longitudPalabra, direccion):\n",
        "    if direccion == 'horizontal':\n",
        "        return all(matriz[fila, col + i] == ' ' for i in range(longitudPalabra))    #Cada letra que se va agregando en una posición vacía\n",
        "    elif direccion == 'vertical':\n",
        "        return all(matriz[fila + i, col] == ' ' for i in range(longitudPalabra))\n",
        "    elif direccion == 'diagonal':\n",
        "        return all(matriz[fila + i, col + i] == ' ' for i in range(longitudPalabra))\n",
        "    else:\n",
        "        return False"
      ]
    },
    {
      "cell_type": "code",
      "execution_count": null,
      "metadata": {
        "id": "l4O4O3ZR7TzO"
      },
      "outputs": [],
      "source": [
        "#La siguiente función rellena la matriz con letras aleatorias en los espacios en blanco\n",
        "\n",
        "def letrasAzar(matriz):\n",
        "    for i in range(matriz.shape[0]):                                                 #Representa las filas\n",
        "        for j in range(matriz.shape[1]):                                             #Representa las columnas\n",
        "            if matriz[i, j] == ' ':                                                  #Si se encuentra en blanco\n",
        "                matriz[i, j] = random.choice('abcdefghijklmnopqrstuvwxyzñ').upper()  #Rellena con letras al azar\n",
        "    return(matriz)"
      ]
    },
    {
      "cell_type": "code",
      "execution_count": null,
      "metadata": {
        "id": "3sBQU4pw7TzP"
      },
      "outputs": [],
      "source": [
        "#La siguiente función ingresa las palabras a la sopa de letras\n",
        "\n",
        "def rellenarLetras(palabras, filas, columnas):\n",
        "    palabras = [entrada.upper() for entrada in palabras]   #Genera las palabras en mayúsculas\n",
        "    matriz = np.full((filas, columnas), ' ', dtype=str)    #Genera una matriz vacía usando numpy\n",
        "\n",
        "    for k in range(len(palabras)):\n",
        "        num_intentos = 25                             # Este es el número de veces que se va a validar cada palabra en el caso en el que no se pueda ingresar en una posición específica\n",
        "        for intento in range(num_intentos):\n",
        "            direccion = random.choice(['horizontal', 'vertical', 'diagonal'])                         #Escoge una dirección al azar\n",
        "            fila, col = np.random.randint(0, matriz.shape[0]), np.random.randint(0, matriz.shape[1])  #Ingresa a fila y columna el número de la posición aleatoria\n",
        "\n",
        "\n",
        "#El siguiente código agrega las palabras según la posición que se haya escogido aleatoriamente según dos parámetros:\n",
        "#Que la palabra al ingresarse no se vaya a salir del tamaño de la matriz Y con la función esposicionVacia evualamos que efectivamente se ingrese en un espacio vacío\n",
        "#El break es importante ya que permite que una vez se ingrese la palabra salga del bucle, con esto evitamos que la palabra se repita más veces dentro de la sopa de letras\n",
        "\n",
        "            if direccion == 'horizontal' and col + len(palabras[k]) <= matriz.shape[1] and esposicionVacia(matriz, fila, col, len(palabras[k]), direccion):\n",
        "                matriz[fila, col:col+len(palabras[k])] = list(palabras[k])\n",
        "                break\n",
        "            elif direccion == 'vertical' and fila + len(palabras[k]) <= matriz.shape[0] and esposicionVacia(matriz, fila, col, len(palabras[k]), direccion):\n",
        "                matriz[fila:fila+len(palabras[k]), col] = list(palabras[k])\n",
        "                break\n",
        "            else:\n",
        "                if direccion == 'diagonal' and fila + len(palabras[k]) <= matriz.shape[0] and col + len(palabras[k]) <= matriz.shape[1] and esposicionVacia(matriz, fila, col, len(palabras[k]), direccion):\n",
        "                    for i in range(len(palabras[k])):\n",
        "                        matriz[fila+i, col+i] = palabras[k][i]\n",
        "                    break\n",
        "    letrasAzar(matriz)\n",
        "    return matriz"
      ]
    },
    {
      "cell_type": "code",
      "execution_count": null,
      "metadata": {
        "id": "MNa8WbV67TzS"
      },
      "outputs": [],
      "source": [
        "#El siguiente código define la dificultad del juego. Entre más fácil será más pequeña la matriz y tendrá menos palabras. La dificultad está definida por el usuario\n",
        "\n",
        "# Escoger nivel de dificultad\n",
        "print(\"Bienvenido a nuestra sopa de letras, esperamos que disfrutes\")\n",
        "dificultad = int(input(\"Ingrese la dificultad. Escriba '1' para dificultad fácil, '2' para dificultad media y '3' para dificultad difícil: \"))\n",
        "\n",
        "if dificultad == 1:\n",
        "        filas = 10\n",
        "        columnas = 10\n",
        "        cantidad = 5\n",
        "elif dificultad == 2:\n",
        "        filas = 20\n",
        "        columnas = 20\n",
        "        cantidad = 10\n",
        "elif dificultad == 3:\n",
        "        filas = 30\n",
        "        columnas = 30\n",
        "        cantidad = 15"
      ]
    },
    {
      "cell_type": "code",
      "execution_count": null,
      "metadata": {
        "colab": {
          "base_uri": "https://localhost:8080/"
        },
        "id": "cw97d0nT7TzT",
        "outputId": "e6ab8877-3932-403c-d62c-2f05e8399d4d"
      },
      "outputs": [
        {
          "name": "stdout",
          "output_type": "stream",
          "text": [
            "¿Quiere ingresar usted las palabras? S/N: n\n"
          ]
        }
      ],
      "source": [
        "# Se crea una lista de palabras ingresadas que se utilizará más adelante\n",
        "#Se le da la opción al usuario de si quiere ingresar las palabras él mismo o prefiere que las genere el programa\n",
        "\n",
        "Palabras_ingresadas = []\n",
        "Tipo_palabras = input(\"¿Quiere ingresar usted las palabras? S/N: \")"
      ]
    },
    {
      "cell_type": "code",
      "execution_count": null,
      "metadata": {
        "id": "_U3jP15Z7TzU",
        "colab": {
          "base_uri": "https://localhost:8080/"
        },
        "outputId": "1506ba5a-6c97-4914-9bc3-59fe6cfb0a7d"
      },
      "outputs": [
        {
          "output_type": "stream",
          "name": "stdout",
          "text": [
            "Ingrese una categoría: ['Colores', 'Animales', 'Emociones', 'Medios de transporte', 'Tecnologías', 'Objetos cotidianos', 'Comidas', 'Países', 'Animes', 'Videojuegos', 'Marcas', 'Peliculas', 'Alimentos', 'Acciones', 'Lugares', 'Deportes']Deportes\n",
            "\n",
            "Todas las palabras están en singular\n",
            "\n",
            "['CRIQUET', 'ESCALADA', 'BEISBOL', 'VOLEIBOL', 'PARKOUR']\n",
            "\n"
          ]
        }
      ],
      "source": [
        "#Si la respuesta no está dentro de las opciones dadas se imprime un mensaje de respuesta no válida\n",
        "\n",
        "while Tipo_palabras not in [\"S\",\"s\", \"N\", \"n\"]:\n",
        "    print(\"Respuesta no válida. Por favor, ingrese 'S' o 'N'.\")\n",
        "    Tipo_palabras = input(\"¿Quiere ingresar usted las palabras? S/N: \")\n",
        "\n",
        "#En este caso, cuando la opción sea palabras ingresadas:\n",
        "#El usuario ingresará las palabras que quiera (Teniendo en cuenta la dificultad será el número de palabras que se permitirá ingresar)\n",
        "#Las palabras ingresadas se meterán a la lista antes hecha \"Palabras_ingresadas\" y se pondrán en mayúscula\n",
        "\n",
        "if Tipo_palabras == \"s\" or Tipo_palabras == 'S':\n",
        "    while len(Palabras_ingresadas) < cantidad:\n",
        "            palabras = input(\"Ingrese una palabra: \")\n",
        "            Palabras_ingresadas.append(palabras.upper())\n",
        "\n",
        "#Si el usuario quiere que las palabras las genere el programa:\n",
        "#Se va a crear un diccionario con categorías definidas\n",
        "\n",
        "elif Tipo_palabras == \"N\" or Tipo_palabras == \"n\":\n",
        "   Palabras = {\n",
        "\n",
        "\"Colores\": [\"AMARILLO\", \"ROJO\", \"VERDE\", \"AZUL\", \"NARANJA\", \"NEGRO\", \"ROSADO\", \"MORADO\", \"BLANCO\", \"DORADO\", \"PLATEADO\", \"GRIS\", \"TURQUESA\", \"MARRON\", \"CELESTE\", \"LIMA\", \"MAGENTA\",\n",
        "            \"CIAN\", \"BEIGE\", \"AGUAMARINA\", \"VIOLETA\"],\n",
        "\n",
        "\"Animales\": [\"DELFIN\", \"BALLENA\", \"TIBURON\", \"TORTUGA\", \"ELEFANTE\", \"JIRAFA\", \"LEON\", \"TIGRE\", \"OSO\", \"LOBO\", \"ZORRO\", \"CONEJO\", \"ARDILLA\", \"NUTRIA\", \"CASTOR\", \"CIERVO\", \"JABALI\",\n",
        "             \"PUMA\", \"LEOPARDO\", \"PANTERA\", \"COCODRILO\", \"LAGARTO\", \"IGUANA\", \"CAMALEON\", \"SERPIENTE\", \"VIBORA\", \"ARAÑA\", \"ESCORPION\", \"ABEJA\", \"AVISPA\", \"MOSQUITO\", \"MARIPOSA\",\n",
        "             \"POLILLA\", \"ESCARABAJO\", \"CUCARACHA\", \"MOSCA\", \"HORMIGA\", \"CIGARRA\", \"SURICATA\"],\n",
        "\n",
        "\"Emociones\": [\"AMOR\", \"FELICIDAD\", \"TRISTEZA\", \"MIEDO\", \"ENOJO\", \"SORPRESA\", \"ASOMBRO\", \"VERGUENZA\", \"CONFUSIÓN\", \"ORGULLO\", \"CULPA\", \"CELOS\", \"GRATITUD\", \"ESPERANZA\", \"DOLOR\",\n",
        "              \"EMPATIA\", \"COMPASION\", \"DESPRECIO\", \"ANSIEDAD\", \"ESTUPOR\", \"NOSTALGIA\", \"CULPA\", \"HOSTILIDAD\", \"EUFORIA\", \"INSEGURIDAD\", \"ADMIRACION\", \"IMPACIENCIA\", \"DESDEN\",\n",
        "              \"AVERSION\", \"ESTIMA\", \"CAUTELA\", \"ALIVIO\", \"ENTUSIASMO\", \"RESIGNACIÓN\", \"AGOBIO\", \"CURIOSIDAD\"],\n",
        "\n",
        "\"Medios de transporte\": [\"COCHE\", \"AUTOBUS\", \"TREN\", \"METRO\", \"BICICLETA\", \"MOTO\", \"AVION\", \"BARCO\", \"TRANVIA\", \"CAMION\", \"HELICOPTERO\", \"TAXI\", \"PATINETA\", \"TRINEO\", \"AMBULANCIA\",\n",
        "                         \"BARCA\", \"SUBMARINO\", \"TRACTOR\", \"CANOA\"],\n",
        "\n",
        "\"Tecnologías\": [\"TABLETA\", \"LAPTOP\", \"SMARTWATCH\", \"TELEVISOR\", \"CONSOLA\", \"CELULAR\", \"TELEFONO\", \"DRON\", \"IMPRESORA\", \"CAMARA\", \"COMPUTADOR\", \"AUDIFONOS\"],\n",
        "\n",
        "\"Objetos cotidianos\": [\"LLAVE\", \"CARTERA\", \"GAFAS\", \"RELOJ\", \"BOLIGRAFO\", \"PAPEL\", \"CUADERNO\", \"BOTELLA\", \"MOCHILA\", \"SOMBRILLA\", \"ROPA\", \"CEPILLO\", \"JABON\", \"TOALLA\", \"PLATO\", \"TAZA\",\n",
        "                       \"LAMPARA\", \"ESPEJO\", \"MAQUILLAJE\", \"CARGADOR\", \"ALMOHADA\", \"SILLA\", \"PAÑUELO\", \"LINTERNA\", \"LAPIZ\", \"ENCHUFE\", \"CONTROL\", \"CORTINA\", \"BOLSA\", \"TARJETA\", \"CINTA\",\n",
        "                       \"SARTEN\", \"ESCOBA\"],\n",
        "\n",
        "\"Comidas\": [\"PIZZA\", \"PASTA\", \"SUSHI\", \"ENSALADA\", \"TACO\", \"POLLO\", \"SOPA\", \"FILETE\", \"CURRY\", \"PAELLA\", \"LASAÑA\", \"PASTEL\", \"PESCADO\", \"TAPAS\", \"SANDWICH\", \"BURRITO\", \"RISOTTO\",\n",
        "            \"CEVICHE\", \"EMPANADA\", \"CHURRASCO\"],\n",
        "\n",
        "\"Países\": [\"EEUU\", \"CHINA\", \"RUSIA\", \"INDIA\", \"BRASIL\", \"MEXICO\", \"CANADA\", \"FRANCIA\", \"ALEMANIA\", \"ITALIA\", \"JAPON\", \"AUSTRALIA\", \"ESPAÑA\", \"COREA\", \"SUDAFRICA\", \"NIGERIA\", \"ARGENTINA\",\n",
        "           \"TURQUIA\", \"INDONESIA\", \"EGIPTO\", \"ISRAEL\", \"COLOMBIA\", \"PERU\"],\n",
        "\n",
        "\"Animes\": [\"NARUTO\", \"ONEPIECE\", \"DRAGONBALL\", \"ATTACKONTITAN\", \"DEATHNOTE\", \"MYHEROACADEMIA\", \"ONEPUNCHMAN\", \"TOKYOGHOUL\", \"DEMONSLAYER\", \"EVANGELION\", \"BLEACH\", \"BLACKCLOVER\",\n",
        "           \"JUJUTSUKAISEN\", \"CODEGEASS\", \"VIOLETEVERGARDEN\", \"HAIKYUU\", \"PROMISEDNEVERLAND\", \"CHAINSAWMAN\", \"DRSTONE\", \"BEASTARS\", \"MONSTER\", \"LOVEISWAR\", \"POKEMON\", \"FIREFORCE\", \"BAKI\"],\n",
        "\n",
        "\"Videojuegos\": [\"MARIOKART\", \"ZELDA\", \"MINECRAFT\", \"TETRIS\", \"GTAV\", \"FORTNITE\", \"OVERWATCH\", \"CALLOFDUTY\", \"LOL\", \"RESIDENTEVIL\", \"HALO\", \"GODOFWAR\", \"ASSASSINSCREED\", \"DARKSOULS\",\n",
        "                \"GENSHINIMPACT\", \"COUNTERSTRIKE\", \"ROCKETLEAGUE\", \"APEXLEGENDS\"],\n",
        "\n",
        "\"Marcas\": [\"COCACOLA\", \"APPLE\", \"GOOGLE\", \"MICROSOFT\", \"AMAZON\", \"SAMSUNG\", \"NIKE\", \"ADIDAS\", \"MCDONALDS\", \"TOYOTA\", \"BMW\", \"SONY\", \"FACEBOOK\", \"TWITTER\", \"INSTAGRAM\", \"WALMART\",\n",
        "           \"PEPSI\", \"DISNEY\", \"VISA\", \"FORD\", \"GUCCI\", \"ROLEX\"],\n",
        "\n",
        "\"Peliculas\": [\"TITANIC\", \"STAR WARS\", \"JURASSICPARK\", \"HARRYPOTTER\", \"FORRESTGUMP\", \"AVATAR\", \"MATRIX\", \"GLADIADOR\", \"INTERESTELAR\", \"INDIANAJONES\", \"REGRESOALFUTURO\", \"SPIDERMAN\",\n",
        "              \"INCEPTION\", \"LALALAND\", \"TOYSTORY\", \"FROZEN\", \"AVENGERS\"],\n",
        "\n",
        "\"Alimentos\": [\"MANZANA\", \"BANANO\", \"NARANJA\", \"UVA\", \"KIWI\", \"FRESA\", \"MANGO\", \"SANDIA\", \"PIÑA\", \"MELON\", \"PERA\", \"DURAZNO\", \"CEREZA\", \"PAPAYA\", \"CIRUELA\", \"HIGO\", \"MANDARINA\", \"GUAYABA\",\n",
        "              \"LECHUGA\", \"TOMATE\", \"ZANAHORIA\", \"BROCOLI\", \"COLIFLOR\", \"ESPINACA\", \"PEPINO\", \"PIMENTON\", \"CALABACIN\", \"CALABAZA\", \"CEBOLLA\", \"AJO\", \"PATATA\", \"BERENJENA\", \"CHAMPIÑON\"],\n",
        "\n",
        "\"Acciones\": [\"TRABAJO\", \"ESTUDIAR\", \"JUGAR\", \"CORRER\", \"CAMINAR\", \"BAILAR\", \"CANTAR\", \"DORMIR\", \"COMER\", \"BEBER\", \"REIR\", \"LLORAR\", \"SONAR\", \"PENSAR\", \"HABLAR\", \"ESCUCHAR\", \"VER\",\n",
        "             \"SENTIR\", \"TOCAR\", \"OLER\", \"GUSTAR\", \"DISFRUTAR\", \"VIAJAR\", \"CONDUCIR\", \"NADAR\", \"SURFEAR\", \"ESQUIAR\", \"MONTAR\", \"SALTAR\", \"CAER\", \"LEVANTAR\", \"EMPUJAR\", \"JALAR\", \"ABRIR\",\n",
        "             \"CERRAR\", \"EMPACAR\", \"ENVIAR\", \"RECIBIR\", \"REGALAR\", \"COMPRAR\", \"VENDER\", \"CAMBIAR\", \"BUSCAR\", \"ENCONTRAR\", \"PERDER\", \"GANAR\", \"COMPETIR\", \"AYUDAR\", \"APRENDER\", \"ENSENAR\",\n",
        "             \"CONOCER\", \"CREER\", \"DUDAR\", \"ESPERAR\", \"QUERER\", \"AMAR\", \"ODIAR\", \"OLVIDAR\", \"RECORDAR\", \"DESEAR\", \"NECESITAR\", \"PODER\", \"DEBER\", \"SER\", \"ESTAR\", \"IR\", \"VENIR\", \"QUEDAR\",\n",
        "             \"PARTIR\", \"LLEGAR\", \"SALIR\", \"VOLVER\", \"ANDAR\", \"PASEAR\", \"VISITAR\", \"CONOCER\", \"INVITAR\", \"ACEPTAR\", \"RECHAZAR\", \"PROBAR\", \"EXPERIMENTAR\", \"REALIZAR\", \"CREAR\", \"DIBUJAR\",\n",
        "             \"PINTAR\", \"ESCRIBIR\", \"LEER\", \"RESOLVER\", \"CELEBRAR\", \"ORGANIZAR\", \"PREPARAR\", \"COCINAR\", \"HORNEAR\", \"PICAR\", \"CORTAR\", \"MEZCLAR\", \"BATIR\", \"HERVIR\", \"FREIR\", \"ASAR\",\n",
        "             \"ALQUILAR\", \"COMPARTIR\", \"CUIDAR\", \"PROTEGER\", \"RESPETAR\", \"TRATAR\", \"ESFORZARSE\", \"DESCANSAR\", \"RELAJARSE\", \"MEDITAR\", \"RESPIRAR\", \"EXHALAR\", \"INHALAR\", \"SOPLAR\", \"SILBAR\",\n",
        "             \"SONREIR\", \"ABRAZAR\", \"BESAR\", \"ESTRECHAR\", \"ACARICIAR\", \"MIRAR\", \"OBSERVAR\", \"VIGILAR\", \"ANALIZAR\", \"PENSAR\", \"REFLEXIONAR\", \"IMAGINAR\", \"COMPRENDER\", \"ENTENDER\", \"ASIMILAR\",\n",
        "             \"DUDAR\", \"CUESTIONAR\", \"INVESTIGAR\", \"EXPLORAR\", \"DESCUBRIR\", \"ADMIRAR\", \"APRECIAR\", \"VALORAR\", \"DISFRUTAR\", \"APROVECHAR\", \"APLAUDIR\", \"ELOGIAR\", \"FELICITAR\", \"CRITICAR\",\n",
        "             \"REPROCHAR\", \"EXIGIR\", \"PEDIR\", \"SOLICITAR\", \"CONSEGUIR\", \"OBTENER\", \"GANAR\", \"SACRIFICAR\", \"RENUNCIAR\", \"DESECHAR\", \"RECHAZAR\", \"EVITAR\", \"PREVENIR\", \"SUPERAR\", \"VENCER\",\n",
        "             \"ESCAPAR\", \"HUIR\", \"ESCONDER\", \"OCULTAR\", \"MOSTRAR\", \"REVELAR\", \"EXPONER\", \"DEMOSTRAR\", \"EXPLICAR\", \"COMUNICAR\", \"TRANSMITIR\", \"INTERCAMBIAR\", \"DIALOGAR\", \"NEGOCIAR\",\n",
        "             \"RESOLVER\", \"CONFRONTAR\", \"ENFRENTAR\", \"ASUMIR\", \"ACEPTAR\", \"PERDONAR\", \"CONVENCER\", \"PERSUADIR\"],\n",
        "\n",
        "\"Lugares\": [\"PARQUE\", \"PLAYA\", \"BOSQUE\", \"MONTAÑA\", \"LAGO\", \"RIO\", \"DESIERTO\", \"CAMPO\", \"GRANJA\", \"JARDIN\", \"PLAZA\", \"MERCADO\", \"BIBLIOTECA\", \"MUSEO\", \"TEATRO\", \"CINE\", \"CAFE\",\n",
        "            \"RESTAURANTE\", \"BAR\", \"GIMNASIO\", \"PISCINA\", \"SPA\", \"HOSPITAL\", \"CLINICA\", \"FARMACIA\", \"ESCUELA\", \"UNIVERSIDAD\", \"OFICINA\", \"CASA\", \"APARTAMENTO\", \"IGLESIA\", \"AUDITORIO\",\n",
        "            \"ESTACION\", \"AEROPUERTO\"],\n",
        "\n",
        "\"Deportes\": [\"FUTBOL\", \"BALONCESTO\", \"BEISBOL\", \"TENIS\", \"GOLF\", \"HOCKEY\", \"CRIQUET\", \"RUGBY\", \"ATLETISMO\", \"NATACION\", \"CICLISMO\", \"BOXEO\", \"SNOWBOARD\", \"SURF\", \"SKATEBOARDING\",\n",
        "             \"VOLEIBOL\", \"ESCALADA\", \"PESCA\", \"KARATE\", \"TAEKWONDO\", \"BOLOS\", \"BILLAR\", \"AJEDREZ\", \"PARKOUR\"]\n",
        "\n",
        "}\n",
        "\n",
        "#Dentro del elif\n",
        "\n",
        "   Palabras_ingresadas.append(Palabras)                                                    #Se agregan las palabaras a la lista \"Palabras_ingresadas\"\n",
        "   categorias = list(Palabras.keys())                                                      #Almacena todas las llaves las cuales son las categorías, en una lista\n",
        "   categoria_elegida = input(f\"Ingrese una categoría(Escríbela tal cual): {categorias}\")   #Muestra todas las categorías y da la opción de escoger una\n",
        "\n",
        "#Creamos un if para asegurarnos de que la categoría ingresada exista en el diccionario\n",
        "\n",
        "   if categoria_elegida in Palabras:\n",
        "            valor = Palabras[categoria_elegida]                        #Almacena las palabras asociadas a las categorías\n",
        "            Palabras_ingresadas = random.sample(valor, cantidad)       #Escoge palabras aleatoriamente. Teniendo en cuenta que escogerá el número de palabras asociadas a su dificultad\n",
        "            print()\n",
        "            print(\"Todas las palabras están en singular\")\n",
        "            print()\n",
        "            print(Palabras_ingresadas)\n",
        "            print()\n",
        "            categoria_seleccionada = categoria_elegida                 #Guardar la categoria elegida\n",
        "   else:\n",
        "            print(\"La categoría ingresada no está en el diccionario.\")"
      ]
    },
    {
      "cell_type": "code",
      "execution_count": null,
      "metadata": {
        "id": "tRbep8M07TzW",
        "colab": {
          "base_uri": "https://localhost:8080/"
        },
        "outputId": "734dacc2-3083-444a-de2f-9a9a15c8a513"
      },
      "outputs": [
        {
          "output_type": "stream",
          "name": "stdout",
          "text": [
            "   0  1  2  3  4  5  6  7  8  9\n",
            "0  V  I  B  E  I  S  B  O  L  N\n",
            "1  C  R  V  O  L  E  I  B  O  L\n",
            "2  Z  R  A  F  A  X  R  Ñ  N  L\n",
            "3  U  W  I  A  V  O  P  O  Z  I\n",
            "4  K  Ñ  B  Q  E  V  T  Q  A  T\n",
            "5  M  T  W  K  U  Z  Y  G  S  E\n",
            "6  U  U  Ñ  X  X  E  X  R  A  Q\n",
            "7  Z  Y  Y  Ñ  Q  P  T  X  S  T\n",
            "8  W  X  E  S  C  A  L  A  D  A\n",
            "9  R  A  W  B  H  N  H  A  Q  T\n"
          ]
        }
      ],
      "source": [
        "# Imprime la matriz usando la función de rellenar letras, ya teniendo las palabras ingresadas\n",
        "resultado_sopa = rellenarLetras(Palabras_ingresadas, filas, columnas) # Función que da el resultado\n",
        "\n",
        "#Según el rango (Es decir el tamaño de la matriz), se añaden los números en las filas y columnas, simulando las coordenadas\n",
        "col_names = [str(i) for i in range(resultado_sopa.shape[1])]\n",
        "\n",
        "#Usando la biblioteca de pandas, se usa la función dataframe para mostrar la sopa de letras mucho más bonita\n",
        "df = pd.DataFrame(resultado_sopa, columns=col_names)\n",
        "\n",
        "print(df)   #Imprime la matriz resultante"
      ]
    },
    {
      "cell_type": "code",
      "execution_count": null,
      "metadata": {
        "id": "og1iW9ef7TzW",
        "colab": {
          "base_uri": "https://localhost:8080/"
        },
        "outputId": "aea8ca82-9671-4294-93b9-aca9e8f23ed5"
      },
      "outputs": [
        {
          "output_type": "stream",
          "name": "stdout",
          "text": [
            "Ingrese la fila de la coordenada 1: 3\n",
            "Ingrese la columna de la coordenada 1: 0\n",
            "Ingrese la fila de la coordenada 2: 8\n",
            "Ingrese la columna de la coordenada 2: 5\n",
            "Felicidades, encontró la palabra ESPEJO le faltan 4 por encontrar \n",
            "Ingrese la fila de la coordenada 1: 1\n",
            "Ingrese la columna de la coordenada 1: 8\n",
            "Ingrese la fila de la coordenada 2: 4\n",
            "Ingrese la columna de la coordenada 2: 8\n",
            "Felicidades, encontró la palabra AMOR le faltan 3 por encontrar \n",
            "Ingrese la fila de la coordenada 1: 0\n",
            "Ingrese la columna de la coordenada 1: 9\n",
            "Ingrese la fila de la coordenada 2: 4\n",
            "Ingrese la columna de la coordenada 2: 9\n",
            "Felicidades, encontró la palabra LIBRO le faltan 2 por encontrar \n",
            "Ingrese la fila de la coordenada 1: 2\n",
            "Ingrese la columna de la coordenada 1: 5\n",
            "Ingrese la fila de la coordenada 2: 6\n",
            "Ingrese la columna de la coordenada 2: 5\n",
            "Felicidades, encontró la palabra SILLA le faltan 1 por encontrar \n",
            "Ingrese la fila de la coordenada 1: 4\n",
            "Ingrese la columna de la coordenada 1: 6\n",
            "Ingrese la fila de la coordenada 2: 7\n",
            "Ingrese la columna de la coordenada 2: 6\n",
            "Felicidades ha ganado el juego\n"
          ]
        }
      ],
      "source": [
        "#Función para que el usuario ingrese las coorenadas\n",
        "\n",
        "def ingresar_coordenadas(matriz, coordenadaA, coordenadaB):\n",
        "\n",
        "\n",
        "    x1, y1 = coordenadaA\n",
        "    x2, y2 = coordenadaB\n",
        "\n",
        "    palabra = \"\"\n",
        "\n",
        "#Para palabras en horizontal\n",
        "\n",
        "    if x1 == x2:\n",
        "        if y1 < y2:\n",
        "            for j in range(y1, y2 + 1):\n",
        "                palabra += matriz[x1][j]\n",
        "        else:\n",
        "            for j in range(y2, y1 + 1):\n",
        "                palabra += matriz[x1][j]\n",
        "        return palabra\n",
        "\n",
        "#Para palabras en vertical\n",
        "\n",
        "    if y1 == y2:\n",
        "        if x1 < x2:\n",
        "            for i in range(x1, x2 + 1):\n",
        "                palabra += matriz[i][y1]\n",
        "        else:\n",
        "            for i in range(x2, x1 + 1):\n",
        "                palabra += matriz[i][y1]\n",
        "        return palabra\n",
        "\n",
        "#Para palabras en diagonal\n",
        "\n",
        "    if abs(x2 - x1) == abs(y2 - y1):\n",
        "        if x2 > x1 and y2 > y1:\n",
        "            for i in range(x2 - x1 + 1):\n",
        "                palabra += matriz[x1 + i][y1 + i]\n",
        "        elif x2 > x1 and y2 < y1:\n",
        "            for i in range(x2 - x1 + 1):\n",
        "                palabra += matriz[x1 + i][y1 - i]\n",
        "        elif x2 < x1 and y2 > y1:\n",
        "            for i in range(x1 - x2 + 1):\n",
        "                palabra += matriz[x1 - i][y1 + i]\n",
        "        else:\n",
        "            for i in range(x1 - x2 + 1):\n",
        "                palabra += matriz[x1 - i][y1 - i]\n",
        "        return palabra\n",
        "\n",
        "    return None\n",
        "\n",
        "cantidad_palabras = len(Palabras_ingresadas)\n",
        "\n",
        "while cantidad_palabras != 0:\n",
        "    coordenada1 = (int(input(\"Ingrese la fila de la coordenada 1: \")), int(input(\"Ingrese la columna de la coordenada 1: \")))\n",
        "    coordenada2 = (int(input(\"Ingrese la fila de la coordenada 2: \")), int(input(\"Ingrese la columna de la coordenada 2: \")))\n",
        "    intento_palabra = ingresar_coordenadas(resultado_sopa, coordenada1, coordenada2)\n",
        "\n",
        "    palabra_encontrada = False\n",
        "\n",
        "    #lista_palabras = Palabras[categoria_seleccionada]\n",
        "\n",
        "    if intento_palabra in Palabras_ingresadas:\n",
        "        palabra_encontrada = True\n",
        "        Palabras_ingresadas.remove(intento_palabra)\n",
        "\n",
        "        cantidad_palabras -= 1\n",
        "        if cantidad_palabras == 0:\n",
        "            print(\"Felicidades ha ganado el juego\")\n",
        "        else:\n",
        "          print(f\"Felicidades, encontró la palabra {intento_palabra} le faltan {cantidad_palabras} por encontrar \")\n",
        "    else:\n",
        "        print(f\"La palabra {intento_palabra} no hace parte de las palabras por buscar, por favor intente con otra\")\n"
      ]
    }
  ],
  "metadata": {
    "kernelspec": {
      "display_name": "base",
      "language": "python",
      "name": "python3"
    },
    "language_info": {
      "codemirror_mode": {
        "name": "ipython",
        "version": 3
      },
      "file_extension": ".py",
      "mimetype": "text/x-python",
      "name": "python",
      "nbconvert_exporter": "python",
      "pygments_lexer": "ipython3",
      "version": "3.9.7"
    },
    "colab": {
      "provenance": [],
      "include_colab_link": true
    }
  },
  "nbformat": 4,
  "nbformat_minor": 0
}